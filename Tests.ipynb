{
 "cells": [
  {
   "cell_type": "code",
   "execution_count": 1,
   "id": "fd12ceb3",
   "metadata": {},
   "outputs": [],
   "source": [
    "using Optim\n",
    "using Random\n",
    "using StatsBase\n",
    "using Statistics\n",
    "using Distributions\n",
    "using LinearAlgebra"
   ]
  },
  {
   "cell_type": "code",
   "execution_count": 2,
   "id": "b13db447",
   "metadata": {},
   "outputs": [
    {
     "data": {
      "text/plain": [
       "gradient (generic function with 1 method)"
      ]
     },
     "execution_count": 2,
     "metadata": {},
     "output_type": "execute_result"
    }
   ],
   "source": [
    "function creat_players(clubs, players_per_club, mean = 0, var = 1, lb = 0, ub = 100)\n",
    "    all_players = rand(Truncated(Normal(mean, var), lb, ub), clubs * players_per_club)\n",
    "    all_players = all_players / (sum(all_players) / clubs)\n",
    "    players = Dict{Int64, Float64}(zip(1:clubs * players_per_club, all_players))\n",
    "    return players\n",
    "end\n",
    "\n",
    "function simulating_game(club1, club2, sims = 1000000)\n",
    "    λ₁ = sum(club1)\n",
    "    λ₂ = sum(club2)\n",
    "    X₁ = Poisson(λ₁ / λ₂)\n",
    "    X₂ = Poisson(λ₂ / λ₁)\n",
    "    Y₁ = rand(X₁, sims)\n",
    "    Y₂ = rand(X₂, sims)\n",
    "    wins₁ = sum(Y₁ .> Y₂)\n",
    "    draws = sum(Y₁ .== Y₂)\n",
    "    wins₂ = sum(Y₁ .< Y₂)\n",
    "    return wins₁, draws, wins₂\n",
    "end\n",
    "\n",
    "function create_games(seasons, clubs, ppc)\n",
    "    results = [[[0 for i in 1:4] for j in 1:clubs * (clubs - 1)] for s in 1:seasons]\n",
    "    players = creat_players(clubs, ppc)\n",
    "    squads = []\n",
    "    for i in 1:seasons\n",
    "        line = 1\n",
    "        append!(squads, [reshape(shuffle(collect(1:length(players))), (clubs, ppc))])\n",
    "        actual_clubs = convert(Matrix{Float64}, (deepcopy(last(squads))))\n",
    "        for i in 1:clubs\n",
    "            for j in 1:ppc\n",
    "                actual_clubs[i, j] = players[actual_clubs[i, j]]\n",
    "            end\n",
    "        end\n",
    "\n",
    "        for j in 1:clubs\n",
    "            for k in 1:clubs\n",
    "                if j != k\n",
    "                    Xⱼ = Poisson(sum(actual_clubs[j, :]) / sum(actual_clubs[k, :]))\n",
    "                    Xₖ = Poisson(sum(actual_clubs[k, :]) / sum(actual_clubs[j, :]))\n",
    "                    results[i][line][1] = j\n",
    "                    results[i][line][2] = rand(Xⱼ)\n",
    "                    results[i][line][3] = rand(Xₖ)\n",
    "                    results[i][line][4] = k\n",
    "                    line += 1\n",
    "                end\n",
    "            end\n",
    "        end\n",
    "    end\n",
    "    return results, squads, players\n",
    "end\n",
    "\n",
    "# results be an array like [1, 1, 0, 3]\n",
    "# [home club, score home, score away, away club]\n",
    "function likelihood(players, results, squads)\n",
    "    if typeof(players) != Dict{Int64, Float64}\n",
    "        players = Dict{Int64, Float64}(zip(1:length(players), players))\n",
    "    end\n",
    "    \n",
    "    loglikelihood = 0\n",
    "    for i in 1:length(results)\n",
    "        actual_clubs = convert(Matrix{Float64}, (deepcopy(squads[i])))\n",
    "        for j in 1:size(actual_clubs)[1]\n",
    "            for k in 1:size(actual_clubs)[2]\n",
    "                actual_clubs[j, k] = players[actual_clubs[j, k]]\n",
    "            end\n",
    "        end\n",
    "        \n",
    "        for j in 1:length(results[i])\n",
    "            clubₕ, scoreₕ, scoreₐ, clubₐ = results[i][j]\n",
    "            loglikelihood -= logpdf(Poisson(sum(actual_clubs[clubₕ, :]) / sum(actual_clubs[clubₐ, :])),\n",
    "                                    scoreₕ)\n",
    "            loglikelihood -= logpdf(Poisson(sum(actual_clubs[clubₐ, :]) / sum(actual_clubs[clubₕ, :])),\n",
    "                                    scoreₐ)\n",
    "        end\n",
    "    end\n",
    "    \n",
    "    return loglikelihood\n",
    "end\n",
    "\n",
    "function gradient(players, results, squads, ∇likelihood)\n",
    "    if typeof(players) != Dict{Int64, Float64}\n",
    "        players = Dict{Int64, Float64}(zip(1:length(players), players))\n",
    "    end\n",
    "    \n",
    "    # ∇likelihood = zeros(length(players))\n",
    "    for i in 1:length(results)\n",
    "        for j in 1:length(results[i])\n",
    "            clubₕ, scoreₕ, scoreₐ, clubₐ = results[i][j]\n",
    "            λₕ, λₐ = 0, 0\n",
    "            for k in 1:size(squads[i], 2)\n",
    "                λₕ += players[squads[i][clubₕ, k]]\n",
    "                λₐ += players[squads[i][clubₐ, k]]\n",
    "            end\n",
    "            \n",
    "            for p in 1:length(players)\n",
    "                if p in squads[i][clubₕ, :] && p in squads[i][clubₐ, :]\n",
    "                    ∇likelihood[p] += (λₕ - λₐ) / λₐ ^ 2 + scoreₕ * (λₐ - λₕ) / (λₕ * λₐ)\n",
    "                    ∇likelihood[p] += (λₐ - λₕ) / λₕ ^ 2 + scoreₐ * (λₕ - λₐ) / (λₐ * λₕ)\n",
    "                elseif p in squads[i][clubₕ, :]\n",
    "                    ∇likelihood[p] += scoreₕ / λₕ - 1 / λₐ\n",
    "                    ∇likelihood[p] += λₐ / λₕ ^ 2 - scoreₐ / λₕ\n",
    "                elseif p in squads[i][clubₐ, :]\n",
    "                    ∇likelihood[p] += scoreₐ / λₐ - 1 / λₕ\n",
    "                    ∇likelihood[p] += λₕ / λₐ ^ 2 - scoreₕ / λₐ\n",
    "                end\n",
    "            end\n",
    "        end\n",
    "    end\n",
    "    \n",
    "    return ∇likelihood\n",
    "end"
   ]
  },
  {
   "cell_type": "code",
   "execution_count": 3,
   "id": "21fd61f4",
   "metadata": {},
   "outputs": [
    {
     "name": "stdout",
     "output_type": "stream",
     "text": [
      "  1.107656 seconds (2.14 M allocations: 126.719 MiB, 7.96% gc time, 99.13% compilation time)\n",
      "  0.438442 seconds (2.55 M allocations: 146.259 MiB, 10.13% gc time, 98.18% compilation time)\n",
      "  1.246122 seconds (5.30 M allocations: 470.564 MiB, 4.10% gc time, 13.24% compilation time)\n",
      "  0.011517 seconds (69.11 k allocations: 3.847 MiB)\n",
      "  0.007893 seconds (83.26 k allocations: 3.674 MiB)\n",
      "  1.037426 seconds (5.15 M allocations: 461.898 MiB, 2.87% gc time)\n",
      "\n"
     ]
    }
   ],
   "source": [
    "seasons = 10\n",
    "n_clubs = 20\n",
    "ppc = 11\n",
    "\n",
    "# compilando\n",
    "results, squads, players = @time create_games(seasons, n_clubs, ppc)\n",
    "clubs = convert(Matrix{Float64}, (deepcopy(last(squads))))\n",
    "for i in 1:n_clubs\n",
    "    for j in 1:ppc\n",
    "        clubs[i, j] = players[clubs[i, j]]\n",
    "    end\n",
    "end\n",
    "\n",
    "@time likelihood(players, results, squads)\n",
    "@time gradient(players, results, squads, zeros(length(players)))\n",
    "\n",
    "# reexecutando\n",
    "results, squads, players = @time create_games(seasons, n_clubs, ppc)\n",
    "clubs = convert(Matrix{Float64}, (deepcopy(last(squads))))\n",
    "for i in 1:n_clubs\n",
    "    for j in 1:ppc\n",
    "        clubs[i, j] = players[clubs[i, j]]\n",
    "    end\n",
    "end\n",
    "\n",
    "@time likelihood(players, results, squads)\n",
    "@time gradient(players, results, squads, zeros(length(players)))\n",
    "println()"
   ]
  },
  {
   "cell_type": "markdown",
   "id": "a46a2110",
   "metadata": {},
   "source": [
    "# Teste para Otimização"
   ]
  },
  {
   "cell_type": "code",
   "execution_count": 4,
   "id": "c024e5a1",
   "metadata": {},
   "outputs": [
    {
     "name": "stdout",
     "output_type": "stream",
     "text": [
      "  5.111020 seconds (22.30 M allocations: 1.505 GiB, 6.00% gc time, 58.39% compilation time)\n",
      "  4.977191 seconds (38.97 M allocations: 1.707 GiB, 6.43% gc time, 23.54% compilation time)\n",
      "1668.326053 seconds (17.44 G allocations: 753.369 GiB, 2.30% gc time, 0.03% compilation time)\n",
      "\n"
     ]
    }
   ],
   "source": [
    "f(x) = likelihood(x, results, squads)\n",
    "g(∇likelihood, x) = gradient(x, results, squads, ∇likelihood)\n",
    "lower = zeros(220)\n",
    "upper = 20 * ones(220)\n",
    "x_inicial = rand(220)\n",
    "od = OnceDifferentiable(f, g, x_inicial)\n",
    "@time res1  = optimize(od,\n",
    "                       lower,\n",
    "                       upper,\n",
    "                       x_inicial,\n",
    "                       Fminbox(GradientDescent()),\n",
    "                       Optim.Options(iterations = 1000))\n",
    "@time res2  = optimize(od,\n",
    "                       lower,\n",
    "                       upper,\n",
    "                       x_inicial,\n",
    "                       Fminbox(NelderMead()),\n",
    "                       Optim.Options(iterations = 1000))\n",
    "@time res3 = optimize(x -> likelihood(x, results, squads),\n",
    "                      lower,\n",
    "                      upper,\n",
    "                      x_inicial,\n",
    "                      Fminbox(NelderMead()),\n",
    "                      Optim.Options(iterations = 1000))\n",
    "\n",
    "println()"
   ]
  },
  {
   "cell_type": "code",
   "execution_count": 5,
   "id": "28682f0c",
   "metadata": {},
   "outputs": [
    {
     "data": {
      "text/plain": [
       "(true, [0.533736805231835, 0.1326511178608072, 0.22991537454608557, 0.3179972108851201, 0.26954835801662647, 0.6934799495987365, 0.03510926969539452, 0.9287393966840538, 0.5730340965009539, 0.9833713758200204  …  0.9660715036858183, 0.2936913315104581, 0.952181595748149, 0.9864366845866896, 0.9470388023049914, 0.06013761537959983, 0.1889890448160858, 0.714514098636047, 0.3538026792774871, 0.047061941533944385], 10799.333858608168, 9977.449999745528)"
      ]
     },
     "execution_count": 5,
     "metadata": {},
     "output_type": "execute_result"
    }
   ],
   "source": [
    "Optim.converged(res1), Optim.minimizer(res1), Optim.minimum(res1), likelihood(players, results, squads)"
   ]
  },
  {
   "cell_type": "code",
   "execution_count": 6,
   "id": "bb57468f",
   "metadata": {},
   "outputs": [
    {
     "name": "stdout",
     "output_type": "stream",
     "text": [
      "Correlação de Pearson: -0.04220444963145277\n",
      "Correlação de Spearman: -0.048845111375328945\n",
      "Correlação de Kendall: -0.030635118306351183\n",
      "||Gradiente||: 351.02130905252307\n"
     ]
    }
   ],
   "source": [
    "max_lik_players = Dict{Int64, Float64}(zip(1:length(Optim.minimizer(res1)), Optim.minimizer(res1)))\n",
    "\n",
    "original_players = zeros(220)\n",
    "optimized_players = zeros(220)\n",
    "\n",
    "for i in 1:220\n",
    "    original_players[i] = players[i]\n",
    "    optimized_players[i] = max_lik_players[i]\n",
    "end\n",
    "\n",
    "original_players /= original_players[1]\n",
    "optimized_players /= optimized_players[1]\n",
    "grad = gradient(Optim.minimizer(res1), results, squads, zeros(length(players)))\n",
    "println(\"Correlação de Pearson: \", cor(original_players, optimized_players))\n",
    "println(\"Correlação de Spearman: \", corspearman(original_players, optimized_players))\n",
    "println(\"Correlação de Kendall: \", corkendall(original_players, optimized_players))\n",
    "println(\"||Gradiente||: \", norm(grad))"
   ]
  },
  {
   "cell_type": "code",
   "execution_count": 7,
   "id": "df4046b6",
   "metadata": {},
   "outputs": [
    {
     "data": {
      "text/plain": [
       "(true, [0.533736805231835, 0.1326511178608072, 0.22991537454608557, 0.3179972108851201, 0.26954835801662647, 0.6934799495987365, 0.03510926969539452, 0.9287393966840538, 0.5730340965009539, 0.9833713758200204  …  0.9660715036858183, 0.2936913315104581, 0.952181595748149, 0.9864366845866896, 0.9470388023049914, 0.06013761537959983, 0.1889890448160858, 0.714514098636047, 0.3538026792774871, 0.047061941533944385], 10785.368089422136, 9977.449999745528)"
      ]
     },
     "execution_count": 7,
     "metadata": {},
     "output_type": "execute_result"
    }
   ],
   "source": [
    "Optim.converged(res2), Optim.minimizer(res2), Optim.minimum(res2), likelihood(players, results, squads)"
   ]
  },
  {
   "cell_type": "code",
   "execution_count": 8,
   "id": "0010452d",
   "metadata": {},
   "outputs": [
    {
     "name": "stdout",
     "output_type": "stream",
     "text": [
      "Correlação de Pearson: -0.03756027455460266\n",
      "Correlação de Spearman: -0.04749384378715563\n",
      "Correlação de Kendall: -0.029970942299709424\n",
      "||Gradiente||: 346.2884225231217\n"
     ]
    }
   ],
   "source": [
    "max_lik_players = Dict{Int64, Float64}(zip(1:length(Optim.minimizer(res2)), Optim.minimizer(res2)))\n",
    "\n",
    "original_players = zeros(220)\n",
    "optimized_players = zeros(220)\n",
    "\n",
    "for i in 1:220\n",
    "    original_players[i] = players[i]\n",
    "    optimized_players[i] = max_lik_players[i]\n",
    "end\n",
    "\n",
    "original_players /= original_players[1]\n",
    "optimized_players /= optimized_players[1]\n",
    "grad = gradient(Optim.minimizer(res2), results, squads, zeros(length(players)))\n",
    "println(\"Correlação de Pearson: \", cor(original_players, optimized_players))\n",
    "println(\"Correlação de Spearman: \", corspearman(original_players, optimized_players))\n",
    "println(\"Correlação de Kendall: \", corkendall(original_players, optimized_players))\n",
    "println(\"||Gradiente||: \", norm(grad))"
   ]
  },
  {
   "cell_type": "code",
   "execution_count": 9,
   "id": "9ae7599e",
   "metadata": {},
   "outputs": [
    {
     "data": {
      "text/plain": [
       "(true, [0.15698266645581468, 0.869663155564679, 1.179466022892029, 0.04360852475889209, 0.5282879226639082, 0.2922323964147149, 1.9954678083700446, 0.030604257464743732, 1.3773472808003344, 0.172318195524848  …  0.9486686069432069, 0.15418870884905192, 0.7822314264312866, 0.1775503314004498, 0.8343506005267303, 0.5631759684343873, 0.05528861955845645, 0.9657670311843729, 0.3675135201312056, 1.2975326876927962], 9899.148944259236, 9977.449999745528)"
      ]
     },
     "execution_count": 9,
     "metadata": {},
     "output_type": "execute_result"
    }
   ],
   "source": [
    "Optim.converged(res3), Optim.minimizer(res3), Optim.minimum(res3), likelihood(players, results, squads)"
   ]
  },
  {
   "cell_type": "code",
   "execution_count": 10,
   "id": "19c82810",
   "metadata": {},
   "outputs": [
    {
     "name": "stdout",
     "output_type": "stream",
     "text": [
      "Correlação de Pearson: 0.781773264087585\n",
      "Correlação de Spearman: 0.7475406140998405\n",
      "Correlação de Kendall: 0.5560813615608137\n",
      "||Gradiente||: 9.186940558490596\n"
     ]
    }
   ],
   "source": [
    "max_lik_players = Dict{Int64, Float64}(zip(1:length(Optim.minimizer(res3)), Optim.minimizer(res3)))\n",
    "\n",
    "original_players = zeros(220)\n",
    "optimized_players = zeros(220)\n",
    "\n",
    "for i in 1:220\n",
    "    original_players[i] = players[i]\n",
    "    optimized_players[i] = max_lik_players[i]\n",
    "end\n",
    "\n",
    "original_players /= original_players[1]\n",
    "optimized_players /= optimized_players[1]\n",
    "grad = gradient(Optim.minimizer(res3), results, squads, zeros(length(players)))\n",
    "println(\"Correlação de Pearson: \", cor(original_players, optimized_players))\n",
    "println(\"Correlação de Spearman: \", corspearman(original_players, optimized_players))\n",
    "println(\"Correlação de Kendall: \", corkendall(original_players, optimized_players))\n",
    "println(\"||Gradiente||: \", norm(grad))"
   ]
  },
  {
   "cell_type": "code",
   "execution_count": 11,
   "id": "46082d8f",
   "metadata": {},
   "outputs": [
    {
     "name": "stdout",
     "output_type": "stream",
     "text": [
      "  2.094019 seconds (10.54 M allocations: 934.922 MiB, 2.80% gc time)\n"
     ]
    },
    {
     "data": {
      "text/plain": [
       " * Status: success\n",
       "\n",
       " * Candidate solution\n",
       "    Final objective value:     9.899149e+03\n",
       "\n",
       " * Found with\n",
       "    Algorithm:     Fminbox with Gradient Descent\n",
       "\n",
       " * Convergence measures\n",
       "    |x - x'|               = 0.00e+00 ≤ 0.0e+00\n",
       "    |x - x'|/|x'|          = 0.00e+00 ≤ 0.0e+00\n",
       "    |f(x) - f(x')|         = NaN ≰ 0.0e+00\n",
       "    |f(x) - f(x')|/|f(x')| = NaN ≰ 0.0e+00\n",
       "    |g(x)|                 = NaN ≰ 1.0e-08\n",
       "\n",
       " * Work counters\n",
       "    Seconds run:   2  (vs limit Inf)\n",
       "    Iterations:    1\n",
       "    f(x) calls:    2\n",
       "    ∇f(x) calls:   2\n"
      ]
     },
     "execution_count": 11,
     "metadata": {},
     "output_type": "execute_result"
    }
   ],
   "source": [
    "@time res4  = optimize(od,\n",
    "                       lower,\n",
    "                       upper,\n",
    "                       Optim.minimizer(res3),\n",
    "                       Fminbox(GradientDescent()),\n",
    "                       Optim.Options(iterations = 1000))\n",
    "\n",
    "res4"
   ]
  },
  {
   "cell_type": "code",
   "execution_count": 12,
   "id": "ea674c28",
   "metadata": {},
   "outputs": [
    {
     "data": {
      "text/plain": [
       "true"
      ]
     },
     "execution_count": 12,
     "metadata": {},
     "output_type": "execute_result"
    }
   ],
   "source": [
    "Optim.minimizer(res3) == Optim.minimizer(res4)"
   ]
  }
 ],
 "metadata": {
  "kernelspec": {
   "display_name": "Julia 1.6.0",
   "language": "julia",
   "name": "julia-1.6"
  },
  "language_info": {
   "file_extension": ".jl",
   "mimetype": "application/julia",
   "name": "julia",
   "version": "1.6.0"
  }
 },
 "nbformat": 4,
 "nbformat_minor": 5
}
