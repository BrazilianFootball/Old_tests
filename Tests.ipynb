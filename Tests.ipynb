{
 "cells": [
  {
   "cell_type": "code",
   "execution_count": 1,
   "id": "fd12ceb3",
   "metadata": {},
   "outputs": [],
   "source": [
    "using Optim\n",
    "using Random\n",
    "using StatsBase\n",
    "using Statistics\n",
    "using Distributions"
   ]
  },
  {
   "cell_type": "code",
   "execution_count": 2,
   "id": "b13db447",
   "metadata": {},
   "outputs": [
    {
     "data": {
      "text/plain": [
       "gradient (generic function with 1 method)"
      ]
     },
     "execution_count": 2,
     "metadata": {},
     "output_type": "execute_result"
    }
   ],
   "source": [
    "function creat_players(clubs, players_per_club, mean = 0, var = 1, lb = 0, ub = 100)\n",
    "    all_players = rand(Truncated(Normal(mean, var), lb, ub), clubs * players_per_club)\n",
    "    all_players = all_players / (sum(all_players) / clubs)\n",
    "    players = Dict{Int64, Float64}(zip(1:clubs * players_per_club, all_players))\n",
    "    return players\n",
    "end\n",
    "\n",
    "function simulating_game(club1, club2, sims = 1000000)\n",
    "    λ₁ = sum(club1)\n",
    "    λ₂ = sum(club2)\n",
    "    X₁ = Poisson(λ₁ / λ₂)\n",
    "    X₂ = Poisson(λ₂ / λ₁)\n",
    "    Y₁ = rand(X₁, sims)\n",
    "    Y₂ = rand(X₂, sims)\n",
    "    wins₁ = sum(Y₁ .> Y₂)\n",
    "    draws = sum(Y₁ .== Y₂)\n",
    "    wins₂ = sum(Y₁ .< Y₂)\n",
    "    return wins₁, draws, wins₂\n",
    "end\n",
    "\n",
    "function create_games(seasons, clubs, ppc)\n",
    "    results = [[[0 for i in 1:4] for j in 1:clubs * (clubs - 1)] for s in 1:seasons]\n",
    "    players = creat_players(clubs, ppc)\n",
    "    squads = []\n",
    "    for i in 1:seasons\n",
    "        line = 1\n",
    "        append!(squads, [reshape(shuffle(collect(1:length(players))), (clubs, ppc))])\n",
    "        actual_clubs = convert(Matrix{Float64}, (deepcopy(last(squads))))\n",
    "        for i in 1:clubs\n",
    "            for j in 1:ppc\n",
    "                actual_clubs[i, j] = players[actual_clubs[i, j]]\n",
    "            end\n",
    "        end\n",
    "\n",
    "        for j in 1:clubs\n",
    "            for k in 1:clubs\n",
    "                if j != k\n",
    "                    Xⱼ = Poisson(sum(actual_clubs[j, :]) / sum(actual_clubs[k, :]))\n",
    "                    Xₖ = Poisson(sum(actual_clubs[k, :]) / sum(actual_clubs[j, :]))\n",
    "                    results[i][line][1] = j\n",
    "                    results[i][line][2] = rand(Xⱼ)\n",
    "                    results[i][line][3] = rand(Xₖ)\n",
    "                    results[i][line][4] = k\n",
    "                    line += 1\n",
    "                end\n",
    "            end\n",
    "        end\n",
    "    end\n",
    "    return results, squads, players\n",
    "end\n",
    "\n",
    "# results be an array like [1, 1, 0, 3]\n",
    "# [home club, score home, score away, away club]\n",
    "function likelihood(players, results, squads)\n",
    "    if typeof(players) != Dict{Int64, Float64}\n",
    "        players = Dict{Int64, Float64}(zip(1:length(players), players))\n",
    "    end\n",
    "    \n",
    "    loglikelihood = 0\n",
    "    for i in 1:length(results)\n",
    "        actual_clubs = convert(Matrix{Float64}, (deepcopy(squads[i])))\n",
    "        for j in 1:size(actual_clubs)[1]\n",
    "            for k in 1:size(actual_clubs)[2]\n",
    "                actual_clubs[j, k] = players[actual_clubs[j, k]]\n",
    "            end\n",
    "        end\n",
    "        \n",
    "        for j in 1:length(results[i])\n",
    "            clubₕ, scoreₕ, scoreₐ, clubₐ = results[i][j]\n",
    "            loglikelihood -= logpdf(Poisson(sum(actual_clubs[clubₕ, :]) / sum(actual_clubs[clubₐ, :])),\n",
    "                                    scoreₕ)\n",
    "            loglikelihood -= logpdf(Poisson(sum(actual_clubs[clubₐ, :]) / sum(actual_clubs[clubₕ, :])),\n",
    "                                    scoreₐ)\n",
    "        end\n",
    "    end\n",
    "    \n",
    "    return loglikelihood\n",
    "end\n",
    "\n",
    "function gradient(players, results, squads, ∇likelihood)\n",
    "    if typeof(players) != Dict{Int64, Float64}\n",
    "        players = Dict{Int64, Float64}(zip(1:length(players), players))\n",
    "    end\n",
    "    \n",
    "    # ∇likelihood = zeros(length(players))\n",
    "    for i in 1:length(results)\n",
    "        for j in 1:length(results[i])\n",
    "            clubₕ, scoreₕ, scoreₐ, clubₐ = results[i][j]\n",
    "            λ₁, λ₂ = 0, 0\n",
    "            for k in 1:size(squads[i], 2)\n",
    "                λ₁ += players[squads[i][clubₕ, k]]\n",
    "                λ₂ += players[squads[i][clubₐ, k]]\n",
    "            end\n",
    "            \n",
    "            for p in 1:length(players)\n",
    "                if p in squads[i][clubₕ, :] && p in squads[i][clubₐ, :]\n",
    "                    ∇likelihood[p] += (λ₁ - λ₂) / λ₂ ^ 2 + scoreₕ * (λ₂ - λ₁) / (λ₁ * λ₂)\n",
    "                    ∇likelihood[p] += (λ₂ - λ₁) / λ₁ ^ 2 + scoreₐ * (λ₁ - λ₂) / (λ₂ * λ₁)\n",
    "                elseif p in squads[i][clubₕ, :]\n",
    "                    ∇likelihood[p] += scoreₕ / λ₁ - 1 / λ₂\n",
    "                    ∇likelihood[p] += λ₂ / λ₁ ^ 2 - scoreₐ / λ₁\n",
    "                elseif p in squads[i][clubₐ, :]\n",
    "                    ∇likelihood[p] += scoreₐ / λ₂ - 1 / λ₁\n",
    "                    ∇likelihood[p] += λ₁ / λ₂ ^ 2 - scoreₕ / λ₂\n",
    "                end\n",
    "            end\n",
    "        end\n",
    "    end\n",
    "    \n",
    "    return ∇likelihood\n",
    "end"
   ]
  },
  {
   "cell_type": "code",
   "execution_count": 3,
   "id": "21fd61f4",
   "metadata": {},
   "outputs": [
    {
     "name": "stdout",
     "output_type": "stream",
     "text": [
      "  1.262195 seconds (2.14 M allocations: 126.719 MiB, 8.07% gc time, 99.09% compilation time)\n",
      "  0.540601 seconds (2.55 M allocations: 146.259 MiB, 8.15% gc time, 98.21% compilation time)\n",
      "  1.639709 seconds (5.30 M allocations: 470.564 MiB, 5.34% gc time, 12.19% compilation time)\n",
      "  0.010647 seconds (69.11 k allocations: 3.847 MiB)\n",
      "  0.009521 seconds (83.26 k allocations: 3.674 MiB)\n",
      "  1.409841 seconds (5.15 M allocations: 461.898 MiB, 5.29% gc time)\n",
      "\n"
     ]
    }
   ],
   "source": [
    "seasons = 10\n",
    "n_clubs = 20\n",
    "ppc = 11\n",
    "\n",
    "# compilando\n",
    "results, squads, players = @time create_games(seasons, n_clubs, ppc)\n",
    "clubs = convert(Matrix{Float64}, (deepcopy(last(squads))))\n",
    "for i in 1:n_clubs\n",
    "    for j in 1:ppc\n",
    "        clubs[i, j] = players[clubs[i, j]]\n",
    "    end\n",
    "end\n",
    "\n",
    "@time likelihood(players, results, squads)\n",
    "@time gradient(players, results, squads, zeros(length(players)))\n",
    "\n",
    "# reexecutando\n",
    "results, squads, players = @time create_games(seasons, n_clubs, ppc)\n",
    "clubs = convert(Matrix{Float64}, (deepcopy(last(squads))))\n",
    "for i in 1:n_clubs\n",
    "    for j in 1:ppc\n",
    "        clubs[i, j] = players[clubs[i, j]]\n",
    "    end\n",
    "end\n",
    "\n",
    "@time likelihood(players, results, squads)\n",
    "@time gradient(players, results, squads, zeros(length(players)))\n",
    "println()"
   ]
  },
  {
   "cell_type": "markdown",
   "id": "a46a2110",
   "metadata": {},
   "source": [
    "# Teste para Otimização"
   ]
  },
  {
   "cell_type": "code",
   "execution_count": 4,
   "id": "c024e5a1",
   "metadata": {},
   "outputs": [
    {
     "name": "stdout",
     "output_type": "stream",
     "text": [
      "\n"
     ]
    }
   ],
   "source": [
    "f(x) = likelihood(x, results, squads)\n",
    "g(∇likelihood, x) = gradient(x, results, squads, ∇likelihood)\n",
    "lower = zeros(220)\n",
    "upper = 20 * ones(220)\n",
    "x_inicial = rand(220)\n",
    "od = OnceDifferentiable(f, g, x_inicial)\n",
    "res1  = optimize(od,\n",
    "                 lower,\n",
    "                 upper,\n",
    "                 x_inicial,\n",
    "                 Fminbox(GradientDescent()),\n",
    "                 Optim.Options(iterations = 1000))\n",
    "res2  = optimize(od,\n",
    "                 lower,\n",
    "                 upper,\n",
    "                 x_inicial,\n",
    "                 Fminbox(NelderMead()),\n",
    "                 Optim.Options(iterations = 1000))\n",
    "res3 = optimize(x -> likelihood(x, results, squads),\n",
    "                lower,\n",
    "                upper,\n",
    "                x_inicial,\n",
    "                Fminbox(NelderMead()),\n",
    "                Optim.Options(iterations = 1000))\n",
    "\n",
    "println()"
   ]
  },
  {
   "cell_type": "code",
   "execution_count": 5,
   "id": "28682f0c",
   "metadata": {},
   "outputs": [
    {
     "data": {
      "text/plain": [
       "(true, [0.7530073356357216, 0.914269188988067, 0.5147477400729443, 0.5116269907212323, 0.012124245804017386, 0.790231149094109, 0.24726278934716683, 0.4017958882497299, 0.3051904747801959, 0.5088425081176353  …  0.21345503271280175, 0.593689405278288, 0.5928960236446867, 0.89539163500473, 0.09924924364899113, 0.9906580529598881, 0.1693196946383133, 0.8630723043195043, 0.057231714678050105, 0.9827728397825888], 10562.459472721874, 9984.927023398232)"
      ]
     },
     "execution_count": 5,
     "metadata": {},
     "output_type": "execute_result"
    }
   ],
   "source": [
    "Optim.converged(res1), Optim.minimizer(res1), Optim.minimum(res1), likelihood(players, results, squads)"
   ]
  },
  {
   "cell_type": "code",
   "execution_count": 6,
   "id": "bb57468f",
   "metadata": {},
   "outputs": [
    {
     "name": "stdout",
     "output_type": "stream",
     "text": [
      "Correlação de Pearson: 0.10202686790191992\n",
      "Correlação de Spearman: 0.08168801383950457\n",
      "Correlação de Kendall: 0.053383146533831465\n"
     ]
    }
   ],
   "source": [
    "max_lik_players = Dict{Int64, Float64}(zip(1:length(Optim.minimizer(res1)), Optim.minimizer(res1)))\n",
    "\n",
    "original_players = zeros(220)\n",
    "optimized_players = zeros(220)\n",
    "\n",
    "for i in 1:220\n",
    "    original_players[i] = players[i]\n",
    "    optimized_players[i] = max_lik_players[i]\n",
    "end\n",
    "\n",
    "original_players /= original_players[1]\n",
    "optimized_players /= optimized_players[1]\n",
    "\n",
    "println(\"Correlação de Pearson: \", cor(original_players, optimized_players))\n",
    "println(\"Correlação de Spearman: \", corspearman(original_players, optimized_players))\n",
    "println(\"Correlação de Kendall: \", corkendall(original_players, optimized_players))"
   ]
  },
  {
   "cell_type": "code",
   "execution_count": 7,
   "id": "df4046b6",
   "metadata": {},
   "outputs": [
    {
     "data": {
      "text/plain": [
       "(true, [0.7530073356357216, 0.914269188988067, 0.5147477400729443, 0.5116269907212323, 0.012124245804017386, 0.790231149094109, 0.24726278934716683, 0.4017958882497299, 0.3051904747801959, 0.5088425081176353  …  0.21345503271280175, 0.593689405278288, 0.5928960236446867, 0.89539163500473, 0.09924924364899113, 0.9906580529598881, 0.1693196946383133, 0.8630723043195043, 0.057231714678050105, 0.9827728397825888], 10548.951537764093, 9984.927023398232)"
      ]
     },
     "execution_count": 7,
     "metadata": {},
     "output_type": "execute_result"
    }
   ],
   "source": [
    "Optim.converged(res2), Optim.minimizer(res2), Optim.minimum(res2), likelihood(players, results, squads)"
   ]
  },
  {
   "cell_type": "code",
   "execution_count": 8,
   "id": "0010452d",
   "metadata": {},
   "outputs": [
    {
     "name": "stdout",
     "output_type": "stream",
     "text": [
      "Correlação de Pearson: 0.1193658833419563\n",
      "Correlação de Spearman: 0.08343034886145281\n",
      "Correlação de Kendall: 0.0547945205479452\n"
     ]
    }
   ],
   "source": [
    "max_lik_players = Dict{Int64, Float64}(zip(1:length(Optim.minimizer(res2)), Optim.minimizer(res2)))\n",
    "\n",
    "original_players = zeros(220)\n",
    "optimized_players = zeros(220)\n",
    "\n",
    "for i in 1:220\n",
    "    original_players[i] = players[i]\n",
    "    optimized_players[i] = max_lik_players[i]\n",
    "end\n",
    "\n",
    "original_players /= original_players[1]\n",
    "optimized_players /= optimized_players[1]\n",
    "\n",
    "println(\"Correlação de Pearson: \", cor(original_players, optimized_players))\n",
    "println(\"Correlação de Spearman: \", corspearman(original_players, optimized_players))\n",
    "println(\"Correlação de Kendall: \", corkendall(original_players, optimized_players))"
   ]
  },
  {
   "cell_type": "code",
   "execution_count": 9,
   "id": "9ae7599e",
   "metadata": {},
   "outputs": [
    {
     "data": {
      "text/plain": [
       "(true, [0.9173195144742836, 1.4556518218503105, 1.683243257772773, 1.08760251893424, 0.02594177167033089, 0.851240424791657, 1.2211166031570604, 1.2071281942135506, 0.05920845700872021, 0.3054595463600786  …  1.4177321456598515, 0.9660902034977767, 1.1752910503715321, 0.041704967195839375, 0.05245747863937957, 1.2339044621126123, 1.6038811224260956, 0.22543483592224778, 1.039963051575982, 0.39500515810550557], 9896.836254926047, 9984.927023398232)"
      ]
     },
     "execution_count": 9,
     "metadata": {},
     "output_type": "execute_result"
    }
   ],
   "source": [
    "Optim.converged(res3), Optim.minimizer(res3), Optim.minimum(res3), likelihood(players, results, squads)"
   ]
  },
  {
   "cell_type": "code",
   "execution_count": 10,
   "id": "19c82810",
   "metadata": {},
   "outputs": [
    {
     "name": "stdout",
     "output_type": "stream",
     "text": [
      "Correlação de Pearson: 0.7190880652450682\n",
      "Correlação de Spearman: 0.7066374399170531\n",
      "Correlação de Kendall: 0.5110004151100042\n"
     ]
    }
   ],
   "source": [
    "max_lik_players = Dict{Int64, Float64}(zip(1:length(Optim.minimizer(res3)), Optim.minimizer(res3)))\n",
    "\n",
    "original_players = zeros(220)\n",
    "optimized_players = zeros(220)\n",
    "\n",
    "for i in 1:220\n",
    "    original_players[i] = players[i]\n",
    "    optimized_players[i] = max_lik_players[i]\n",
    "end\n",
    "\n",
    "original_players /= original_players[1]\n",
    "optimized_players /= optimized_players[1]\n",
    "\n",
    "println(\"Correlação de Pearson: \", cor(original_players, optimized_players))\n",
    "println(\"Correlação de Spearman: \", corspearman(original_players, optimized_players))\n",
    "println(\"Correlação de Kendall: \", corkendall(original_players, optimized_players))"
   ]
  }
 ],
 "metadata": {
  "kernelspec": {
   "display_name": "Julia 1.6.0",
   "language": "julia",
   "name": "julia-1.6"
  },
  "language_info": {
   "file_extension": ".jl",
   "mimetype": "application/julia",
   "name": "julia",
   "version": "1.6.0"
  }
 },
 "nbformat": 4,
 "nbformat_minor": 5
}
