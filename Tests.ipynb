{
 "cells": [
  {
   "cell_type": "code",
   "execution_count": 1,
   "id": "fd12ceb3",
   "metadata": {},
   "outputs": [],
   "source": [
    "using Optim\n",
    "using Random\n",
    "using StatsBase\n",
    "using Statistics\n",
    "using Distributions"
   ]
  },
  {
   "cell_type": "code",
   "execution_count": 2,
   "id": "b13db447",
   "metadata": {},
   "outputs": [
    {
     "data": {
      "text/plain": [
       "likelihood (generic function with 1 method)"
      ]
     },
     "execution_count": 2,
     "metadata": {},
     "output_type": "execute_result"
    }
   ],
   "source": [
    "function creat_players(clubs, players_per_club, mean = 0, var = 1, lb = 0, ub = 100)\n",
    "    all_players = rand(Truncated(Normal(mean, var), lb, ub), clubs * players_per_club)\n",
    "    all_players = all_players / (sum(all_players) / clubs)\n",
    "    players = Dict{Int64, Float64}(zip(1:clubs * players_per_club, all_players))\n",
    "    return players\n",
    "end\n",
    "\n",
    "function simulating_game(club1, club2, sims = 1000000)\n",
    "    λ₁ = sum(club1)\n",
    "    λ₂ = sum(club2)\n",
    "    X₁ = Poisson(λ₁ / λ₂)\n",
    "    X₂ = Poisson(λ₂ / λ₁)\n",
    "    Y₁ = rand(X₁, sims)\n",
    "    Y₂ = rand(X₂, sims)\n",
    "    wins₁ = sum(Y₁ .> Y₂)\n",
    "    draws = sum(Y₁ .== Y₂)\n",
    "    wins₂ = sum(Y₁ .< Y₂)\n",
    "    return wins₁, draws, wins₂\n",
    "end\n",
    "\n",
    "function create_games(seasons, clubs, ppc)\n",
    "    results = [[[0 for i in 1:4] for j in 1:clubs * (clubs - 1)] for s in 1:seasons]\n",
    "    players = creat_players(clubs, ppc)\n",
    "    squads = []\n",
    "    for i in 1:seasons\n",
    "        line = 1\n",
    "        append!(squads, [reshape(shuffle(collect(1:length(players))), (clubs, ppc))])\n",
    "        actual_clubs = convert(Matrix{Float64}, (deepcopy(last(squads))))\n",
    "        for i in 1:clubs\n",
    "            for j in 1:ppc\n",
    "                actual_clubs[i, j] = players[actual_clubs[i, j]]\n",
    "            end\n",
    "        end\n",
    "\n",
    "        for j in 1:clubs\n",
    "            for k in 1:clubs\n",
    "                if j != k\n",
    "                    Xⱼ = Poisson(sum(actual_clubs[j, :]) / sum(actual_clubs[k, :]))\n",
    "                    Xₖ = Poisson(sum(actual_clubs[k, :]) / sum(actual_clubs[j, :]))\n",
    "                    results[i][line][1] = j\n",
    "                    results[i][line][2] = rand(Xⱼ)\n",
    "                    results[i][line][3] = rand(Xₖ)\n",
    "                    results[i][line][4] = k\n",
    "                    line += 1\n",
    "                end\n",
    "            end\n",
    "        end\n",
    "    end\n",
    "    return results, squads, players\n",
    "end\n",
    "\n",
    "# results be an array like [1, 1, 0, 3]\n",
    "# [home club, score home, score away, away club]\n",
    "\n",
    "function likelihood(results, squads, players)\n",
    "    if typeof(players) != Dict{Int64, Float64}\n",
    "        players = Dict{Int64, Float64}(zip(1:length(players), players))\n",
    "    end\n",
    "    seasons = length(results)\n",
    "    loglikelihood = 0\n",
    "    for i in 1:seasons\n",
    "        games = length(results[i])\n",
    "        actual_clubs = convert(Matrix{Float64}, (deepcopy(squads[i])))\n",
    "        for j in 1:size(actual_clubs)[1]\n",
    "            for k in 1:size(actual_clubs)[2]\n",
    "                actual_clubs[j, k] = players[actual_clubs[j, k]]\n",
    "            end\n",
    "        end\n",
    "        \n",
    "        for j in 1:games\n",
    "            clubₕ, scoreₕ, scoreₐ, clubₐ = results[i][j]\n",
    "            loglikelihood -= logpdf(Poisson(sum(actual_clubs[clubₕ, :]) / sum(actual_clubs[clubₐ, :])),\n",
    "                                    scoreₕ)\n",
    "            loglikelihood -= logpdf(Poisson(sum(actual_clubs[clubₐ, :]) / sum(actual_clubs[clubₕ, :])),\n",
    "                                    scoreₐ)\n",
    "        end\n",
    "    end\n",
    "    \n",
    "    return loglikelihood\n",
    "end"
   ]
  },
  {
   "cell_type": "code",
   "execution_count": 3,
   "id": "21fd61f4",
   "metadata": {},
   "outputs": [
    {
     "name": "stdout",
     "output_type": "stream",
     "text": [
      "  1.265584 seconds (2.14 M allocations: 126.719 MiB, 8.02% gc time, 99.09% compilation time)\n",
      "  0.528276 seconds (2.55 M allocations: 146.268 MiB, 9.32% gc time, 98.16% compilation time)\n",
      "  0.011129 seconds (69.11 k allocations: 3.847 MiB)\n",
      "  0.010904 seconds (83.26 k allocations: 3.674 MiB)\n"
     ]
    },
    {
     "data": {
      "text/plain": [
       "9967.608772834299"
      ]
     },
     "execution_count": 3,
     "metadata": {},
     "output_type": "execute_result"
    }
   ],
   "source": [
    "seasons = 10\n",
    "n_clubs = 20\n",
    "ppc = 11\n",
    "\n",
    "# compilando\n",
    "results, squads, players = @time create_games(seasons, n_clubs, ppc)\n",
    "clubs = convert(Matrix{Float64}, (deepcopy(last(squads))))\n",
    "for i in 1:n_clubs\n",
    "    for j in 1:ppc\n",
    "        clubs[i, j] = players[clubs[i, j]]\n",
    "    end\n",
    "end\n",
    "\n",
    "@time likelihood(results, squads, players)\n",
    "\n",
    "# reexecutando\n",
    "results, squads, players = @time create_games(seasons, n_clubs, ppc)\n",
    "clubs = convert(Matrix{Float64}, (deepcopy(last(squads))))\n",
    "for i in 1:n_clubs\n",
    "    for j in 1:ppc\n",
    "        clubs[i, j] = players[clubs[i, j]]\n",
    "    end\n",
    "end\n",
    "\n",
    "@time likelihood(results, squads, players)"
   ]
  },
  {
   "cell_type": "markdown",
   "id": "a46a2110",
   "metadata": {},
   "source": [
    "# Teste para Otimização"
   ]
  },
  {
   "cell_type": "code",
   "execution_count": 4,
   "id": "c024e5a1",
   "metadata": {},
   "outputs": [
    {
     "data": {
      "text/plain": [
       " * Status: success\n",
       "\n",
       " * Candidate solution\n",
       "    Final objective value:     9.889672e+03\n",
       "\n",
       " * Found with\n",
       "    Algorithm:     Fminbox with Nelder-Mead\n",
       "\n",
       " * Convergence measures\n",
       "    |x - x'|               = 0.00e+00 ≤ 0.0e+00\n",
       "    |x - x'|/|x'|          = 0.00e+00 ≤ 0.0e+00\n",
       "    |f(x) - f(x')|         = 0.00e+00 ≤ 0.0e+00\n",
       "    |f(x) - f(x')|/|f(x')| = 0.00e+00 ≤ 0.0e+00\n",
       "    |g(x)|                 = 1.99e+01 ≰ 1.0e-08\n",
       "\n",
       " * Work counters\n",
       "    Seconds run:   1804  (vs limit Inf)\n",
       "    Iterations:    106\n",
       "    f(x) calls:    180149\n",
       "    ∇f(x) calls:   1\n"
      ]
     },
     "execution_count": 4,
     "metadata": {},
     "output_type": "execute_result"
    }
   ],
   "source": [
    "goal(x, results, squads) = likelihood(results, squads, x)\n",
    "lower = zeros(220)\n",
    "upper = 20 * ones(220)\n",
    "x_inicial = rand(220)\n",
    "# r = optimize(x -> goal(x, results, squads), x_inicial, lower, upper, Fminbox{NelderMead}())\n",
    "# res = optimize(x -> goal(x, results, squads), x_inicial, Optim.Options(iterations = 10000))\n",
    "res = optimize(x -> goal(x, results, squads),\n",
    "               lower,\n",
    "               upper,\n",
    "               x_inicial,\n",
    "               Fminbox(NelderMead()),\n",
    "               Optim.Options(iterations = 1000))\n",
    "\n",
    "res"
   ]
  },
  {
   "cell_type": "code",
   "execution_count": 5,
   "id": "28682f0c",
   "metadata": {},
   "outputs": [
    {
     "data": {
      "text/plain": [
       "(true, [1.1133180627705355, 0.9945806855203053, 0.6412189922492487, 0.23572001485143834, 1.4018098519618056, 0.8661142055945934, 0.7156322589597405, 1.3301574724407956, 0.13161616989968333, 0.7061975907423915  …  0.4740729728176876, 0.32527846527492077, 1.3622133049057856, 0.6661103937617975, 0.6658818407191314, 0.19356471110733547, 1.7941310611438703, 0.6285986250596511, 1.648434883861554, 1.306276732878969], 9889.671503047166)"
      ]
     },
     "execution_count": 5,
     "metadata": {},
     "output_type": "execute_result"
    }
   ],
   "source": [
    "Optim.converged(res), Optim.minimizer(res), Optim.minimum(res)"
   ]
  },
  {
   "cell_type": "code",
   "execution_count": 6,
   "id": "1343f014",
   "metadata": {},
   "outputs": [
    {
     "name": "stdout",
     "output_type": "stream",
     "text": [
      "Correlação de Pearson: 0.7619505713757363\n",
      "Correlação de Spearman: 0.7139662915650022\n",
      "Correlação de Kendall: 0.5186384391863844\n"
     ]
    }
   ],
   "source": [
    "max_lik_players = Dict{Int64, Float64}(zip(1:length(Optim.minimizer(res)), Optim.minimizer(res)))\n",
    "\n",
    "original_players = zeros(220)\n",
    "optimized_players = zeros(220)\n",
    "\n",
    "for i in 1:220\n",
    "    original_players[i] = players[i]\n",
    "    optimized_players[i] = max_lik_players[i]\n",
    "end\n",
    "\n",
    "original_players /= original_players[1]\n",
    "optimized_players /= optimized_players[1]\n",
    "\n",
    "println(\"Correlação de Pearson: \", cor(original_players, optimized_players))\n",
    "println(\"Correlação de Spearman: \", corspearman(original_players, optimized_players))\n",
    "println(\"Correlação de Kendall: \", corkendall(original_players, optimized_players))"
   ]
  }
 ],
 "metadata": {
  "kernelspec": {
   "display_name": "Julia 1.6.0",
   "language": "julia",
   "name": "julia-1.6"
  },
  "language_info": {
   "file_extension": ".jl",
   "mimetype": "application/julia",
   "name": "julia",
   "version": "1.6.0"
  }
 },
 "nbformat": 4,
 "nbformat_minor": 5
}
