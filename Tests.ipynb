{
 "cells": [
  {
   "cell_type": "code",
   "execution_count": 1,
   "id": "fd12ceb3",
   "metadata": {},
   "outputs": [],
   "source": [
    "using Optim\n",
    "using Random\n",
    "using StatsBase\n",
    "using Statistics\n",
    "using Distributions\n",
    "using LinearAlgebra"
   ]
  },
  {
   "cell_type": "markdown",
   "id": "b44a4220",
   "metadata": {},
   "source": [
    "Inicialmente, vamos elaborar funções para gerar jogadores aleatórios e simular campeonatos, além de outra para, dados os resultados, calcular a verossimilhança dos parâmetros em teste (função que deve ser maximizada).\n",
    "\n",
    "```create_players``` recebe como parâmetros a quantidade de clubes e jogadores em cada clube e cria jogadores aleatórios.\n",
    "\n",
    "```simulating_game``` recebe dois clubes e uma quantidade de simulações e simula os jogos entre esses dois clubes por meio de uma Poisson com média $\\lambda = \\frac{\\lambda_a}{\\lambda_d}$, onde $\\lambda_a$ é o somatório das forças dos jogadores do clube atacante ($\\mathcal{C}_a$) e $\\lambda_d$ é o somatório das forças dos jogadores do clube defensor ($\\mathcal{C}_d$).\n",
    "\n",
    "```create_games``` recebe a quantidade de temporadas, clubes e jogadores por clube e cria jogos entre todos os clubes simulando essas temporadas.\n",
    "\n",
    "```likelihood``` recebe os resultados e um conjunto de parâmetros e retorna a log verossimilhança negativa desses parâmetros com o resultado.\n",
    "\n",
    "```gradient``` gradiente da função likelihood.\n",
    "\n",
    "As duas últimas funções podem ser melhores explicadas matematicamente, dessa forma, como explicado anteriormente, cada placar é composto por duas variáveis aleatórias vindas de uma Poisson com média igual a razão das somas das forças dos dois clubes, assim seja $k$ a quantidade de gols de um clube contra outro, $\\lambda_a$ a soma das forças do clube que marcou os gols e $\\lambda_d$ do clube que sofreu. Dessa forma, a verossimilhança desse pedaço de placar é dada por $P(X = k | proficiências) = \\frac{\\lambda^k\\exp{-\\lambda}}{k!}$, onde $\\lambda = \\frac{\\lambda_a}{\\lambda_d}$. Note que a verossimilhança total é o produto de todos os \"pedaços\" de placar, mas, como cada fator desses é um valor em $[0, 1]$, isso se torna muito pequeno, podendo ocorrer underflow error, por isso opta-se a usar o log da verossimilhança (como o log é uma função estritamente crescente, a comparação entre os resultados é mantida). Por fim, os fatores se tornam parcelas, agora todas negativas, então multiplicamos por $-1$, transformando essa métrica num valor positivo e, mais importante, mudando o problema para um problema de minimização.\n",
    "\n",
    "Agora, como citado no parágrafo anterior, cada parcela da verossimilhança é dada pela expressão $-\\log{\\frac{\\lambda^k\\exp{-\\lambda}}{k!}}$, dessa forma, para cada jogador $j$, temos que a derivada dessa parcela, em relação ao jogador $j$, será:\n",
    "  - $0$, se $j \\notin \\mathcal{C}_a \\land j \\notin \\mathcal{C}_d$;\n",
    "  - $\\dfrac{\\lambda_d - \\lambda_a}{\\lambda_d^2} + k \\left(\\dfrac{1}{\\lambda_d} - \\dfrac{1}{\\lambda_a}\\right)$, se $j \\in \\mathcal{C}_a \\land j \\in \\mathcal{C}_d$;\n",
    "  - $\\dfrac{1}{\\lambda_d} - \\dfrac{k}{\\lambda_a}$, se $j \\in \\mathcal{C}_a \\land j \\notin \\mathcal{C}_d$ e;\n",
    "  - $-\\dfrac{\\lambda_a}{\\lambda_d^2} + \\dfrac{k}{\\lambda_d}$, se $j \\notin \\mathcal{C}_a \\land j \\in \\mathcal{C}_d$.\n",
    "  \n",
    "Assim, passando por cada jogo e fazendo as derivadas parciais em relação a cada jogador, chegamos ao gradiente da função de verossimilhança."
   ]
  },
  {
   "cell_type": "code",
   "execution_count": 2,
   "id": "b13db447",
   "metadata": {},
   "outputs": [
    {
     "data": {
      "text/plain": [
       "gradient (generic function with 1 method)"
      ]
     },
     "execution_count": 2,
     "metadata": {},
     "output_type": "execute_result"
    }
   ],
   "source": [
    "function creat_players(clubs, players_per_club, mean = 0, var = 1, lb = 0, ub = 100)\n",
    "    all_players = rand(Truncated(Normal(mean, var), lb, ub), clubs * players_per_club)\n",
    "    all_players = all_players / (sum(all_players) / clubs)\n",
    "    players = Dict{Int64, Float64}(zip(1:clubs * players_per_club, all_players))\n",
    "    return players\n",
    "end\n",
    "\n",
    "function simulating_game(club1, club2, sims = 1000000)\n",
    "    λ₁ = sum(club1)\n",
    "    λ₂ = sum(club2)\n",
    "    X₁ = Poisson(λ₁ / λ₂)\n",
    "    X₂ = Poisson(λ₂ / λ₁)\n",
    "    Y₁ = rand(X₁, sims)\n",
    "    Y₂ = rand(X₂, sims)\n",
    "    wins₁ = sum(Y₁ .> Y₂)\n",
    "    draws = sum(Y₁ .== Y₂)\n",
    "    wins₂ = sum(Y₁ .< Y₂)\n",
    "    return wins₁, draws, wins₂\n",
    "end\n",
    "\n",
    "function create_games(seasons, clubs, ppc)\n",
    "    results = [[[0 for i in 1:4] for j in 1:clubs * (clubs - 1)] for s in 1:seasons]\n",
    "    players = creat_players(clubs, ppc)\n",
    "    squads = []\n",
    "    for i in 1:seasons\n",
    "        line = 1\n",
    "        append!(squads, [reshape(shuffle(collect(1:length(players))), (clubs, ppc))])\n",
    "        actual_clubs = convert(Matrix{Float64}, (deepcopy(last(squads))))\n",
    "        for i in 1:clubs\n",
    "            for j in 1:ppc\n",
    "                actual_clubs[i, j] = players[actual_clubs[i, j]]\n",
    "            end\n",
    "        end\n",
    "\n",
    "        for j in 1:clubs\n",
    "            for k in 1:clubs\n",
    "                if j != k\n",
    "                    Xⱼ = Poisson(sum(actual_clubs[j, :]) / sum(actual_clubs[k, :]))\n",
    "                    Xₖ = Poisson(sum(actual_clubs[k, :]) / sum(actual_clubs[j, :]))\n",
    "                    results[i][line][1] = j\n",
    "                    results[i][line][2] = rand(Xⱼ)\n",
    "                    results[i][line][3] = rand(Xₖ)\n",
    "                    results[i][line][4] = k\n",
    "                    line += 1\n",
    "                end\n",
    "            end\n",
    "        end\n",
    "    end\n",
    "    return results, squads, players\n",
    "end\n",
    "\n",
    "# results be an array like [1, 1, 0, 3]\n",
    "# [home club, score home, score away, away club]\n",
    "function likelihood(players, results, squads)\n",
    "    if typeof(players) != Dict{Int64, Float64}\n",
    "        players = Dict{Int64, Float64}(zip(1:length(players), players))\n",
    "    end\n",
    "    \n",
    "    loglikelihood = 0\n",
    "    for i in 1:length(results)\n",
    "        actual_clubs = convert(Matrix{Float64}, (deepcopy(squads[i])))\n",
    "        for j in 1:size(actual_clubs)[1]\n",
    "            for k in 1:size(actual_clubs)[2]\n",
    "                actual_clubs[j, k] = players[actual_clubs[j, k]]\n",
    "            end\n",
    "        end\n",
    "        \n",
    "        for j in 1:length(results[i])\n",
    "            clubₕ, scoreₕ, scoreₐ, clubₐ = results[i][j]\n",
    "            loglikelihood -= logpdf(Poisson(sum(actual_clubs[clubₕ, :]) / sum(actual_clubs[clubₐ, :])),\n",
    "                                    scoreₕ)\n",
    "            loglikelihood -= logpdf(Poisson(sum(actual_clubs[clubₐ, :]) / sum(actual_clubs[clubₕ, :])),\n",
    "                                    scoreₐ)\n",
    "        end\n",
    "    end\n",
    "    \n",
    "    return loglikelihood\n",
    "end\n",
    "\n",
    "function gradient(players, results, squads, ∇likelihood)\n",
    "    if typeof(players) != Dict{Int64, Float64}\n",
    "        players = Dict{Int64, Float64}(zip(1:length(players), players))\n",
    "    end\n",
    "    \n",
    "    # ∇likelihood = zeros(length(players))\n",
    "    for i in 1:length(results)\n",
    "        for j in 1:length(results[i])\n",
    "            clubₕ, scoreₕ, scoreₐ, clubₐ = results[i][j]\n",
    "            λₕ, λₐ = 0, 0\n",
    "            for k in 1:size(squads[i], 2)\n",
    "                λₕ += players[squads[i][clubₕ, k]]\n",
    "                λₐ += players[squads[i][clubₐ, k]]\n",
    "            end\n",
    "            \n",
    "            for p in 1:length(players)\n",
    "                if p in squads[i][clubₕ, :] && p in squads[i][clubₐ, :]\n",
    "                    ∇likelihood[p] -= (λₕ - λₐ) / λₐ ^ 2 + scoreₕ * (λₐ - λₕ) / (λₕ * λₐ)\n",
    "                    ∇likelihood[p] -= (λₐ - λₕ) / λₕ ^ 2 + scoreₐ * (λₕ - λₐ) / (λₐ * λₕ)\n",
    "                elseif p in squads[i][clubₕ, :]\n",
    "                    ∇likelihood[p] -= scoreₕ / λₕ - 1 / λₐ\n",
    "                    ∇likelihood[p] -= λₐ / λₕ ^ 2 - scoreₐ / λₕ\n",
    "                elseif p in squads[i][clubₐ, :]\n",
    "                    ∇likelihood[p] -= scoreₐ / λₐ - 1 / λₕ\n",
    "                    ∇likelihood[p] -= λₕ / λₐ ^ 2 - scoreₕ / λₐ\n",
    "                end\n",
    "            end\n",
    "        end\n",
    "    end\n",
    "    \n",
    "    return ∇likelihood\n",
    "end"
   ]
  },
  {
   "cell_type": "code",
   "execution_count": 3,
   "id": "21fd61f4",
   "metadata": {},
   "outputs": [
    {
     "name": "stdout",
     "output_type": "stream",
     "text": [
      "  1.277383 seconds (2.14 M allocations: 126.719 MiB, 8.04% gc time, 99.04% compilation time)\n",
      "  0.529174 seconds (2.55 M allocations: 146.259 MiB, 9.64% gc time, 98.17% compilation time)\n",
      "  1.501303 seconds (5.30 M allocations: 470.564 MiB, 3.98% gc time, 13.25% compilation time)\n",
      "  0.012657 seconds (69.11 k allocations: 3.847 MiB)\n",
      "  0.009642 seconds (83.26 k allocations: 3.674 MiB)\n",
      "  1.257706 seconds (5.15 M allocations: 461.898 MiB, 2.81% gc time)\n",
      "\n"
     ]
    }
   ],
   "source": [
    "seasons = 10\n",
    "n_clubs = 20\n",
    "ppc = 11\n",
    "\n",
    "# compilando\n",
    "results, squads, players = @time create_games(seasons, n_clubs, ppc)\n",
    "clubs = convert(Matrix{Float64}, (deepcopy(last(squads))))\n",
    "for i in 1:n_clubs\n",
    "    for j in 1:ppc\n",
    "        clubs[i, j] = players[clubs[i, j]]\n",
    "    end\n",
    "end\n",
    "\n",
    "@time likelihood(players, results, squads)\n",
    "@time gradient(players, results, squads, zeros(length(players)))\n",
    "\n",
    "# reexecutando\n",
    "results, squads, players = @time create_games(seasons, n_clubs, ppc)\n",
    "clubs = convert(Matrix{Float64}, (deepcopy(last(squads))))\n",
    "for i in 1:n_clubs\n",
    "    for j in 1:ppc\n",
    "        clubs[i, j] = players[clubs[i, j]]\n",
    "    end\n",
    "end\n",
    "\n",
    "@time likelihood(players, results, squads)\n",
    "@time gradient(players, results, squads, zeros(length(players)))\n",
    "println()"
   ]
  },
  {
   "cell_type": "markdown",
   "id": "a46a2110",
   "metadata": {},
   "source": [
    "# Teste para Otimização"
   ]
  },
  {
   "cell_type": "code",
   "execution_count": 4,
   "id": "c024e5a1",
   "metadata": {},
   "outputs": [
    {
     "name": "stdout",
     "output_type": "stream",
     "text": [
      "  6.343651 seconds (22.30 M allocations: 1.505 GiB, 5.65% gc time, 57.77% compilation time)\n",
      "  6.074482 seconds (38.97 M allocations: 1.707 GiB, 5.98% gc time, 23.38% compilation time)\n",
      "1977.286300 seconds (16.55 G allocations: 715.159 GiB, 2.09% gc time, 0.03% compilation time)\n",
      "\n"
     ]
    }
   ],
   "source": [
    "f(x) = likelihood(x, results, squads)\n",
    "g(∇likelihood, x) = gradient(x, results, squads, ∇likelihood)\n",
    "lower = zeros(220)\n",
    "upper = 20 * ones(220)\n",
    "x_inicial = rand(220)\n",
    "od = OnceDifferentiable(f, g, x_inicial)\n",
    "@time res1  = optimize(od,\n",
    "                       lower,\n",
    "                       upper,\n",
    "                       x_inicial,\n",
    "                       Fminbox(GradientDescent()),\n",
    "                       Optim.Options(iterations = 1000))\n",
    "@time res2  = optimize(od,\n",
    "                       lower,\n",
    "                       upper,\n",
    "                       x_inicial,\n",
    "                       Fminbox(NelderMead()),\n",
    "                       Optim.Options(iterations = 1000))\n",
    "@time res3 = optimize(x -> likelihood(x, results, squads),\n",
    "                      lower,\n",
    "                      upper,\n",
    "                      x_inicial,\n",
    "                      Fminbox(NelderMead()),\n",
    "                      Optim.Options(iterations = 1000))\n",
    "\n",
    "println()"
   ]
  },
  {
   "cell_type": "code",
   "execution_count": 5,
   "id": "28682f0c",
   "metadata": {},
   "outputs": [
    {
     "data": {
      "text/plain": [
       "(true, [0.9228364351467517, 0.024655827036760947, 0.4073093411623929, 0.19800638547167937, 0.33810687578918497, 0.32851317929292567, 0.3022988256810326, 0.6661517492376108, 0.22016145224289896, 0.3572206232105273  …  0.18706936055570877, 0.11963943833656443, 0.5859548517486248, 0.24741976261254295, 0.6916316639711744, 0.7762796582546487, 0.4878498233613584, 0.7629648794759596, 0.2302181139397641, 0.7668839088447497], 10631.156304147828, 9867.14341883495)"
      ]
     },
     "execution_count": 5,
     "metadata": {},
     "output_type": "execute_result"
    }
   ],
   "source": [
    "Optim.converged(res1), Optim.minimizer(res1), Optim.minimum(res1), likelihood(players, results, squads)"
   ]
  },
  {
   "cell_type": "code",
   "execution_count": 6,
   "id": "bb57468f",
   "metadata": {},
   "outputs": [
    {
     "name": "stdout",
     "output_type": "stream",
     "text": [
      "Correlação de Pearson: 0.02522847938352497\n",
      "Correlação de Spearman: 0.02426872080377318\n",
      "Correlação de Kendall: 0.014943960149439602\n",
      "||Gradiente||: 394.72884677342324\n"
     ]
    }
   ],
   "source": [
    "max_lik_players = Dict{Int64, Float64}(zip(1:length(Optim.minimizer(res1)), Optim.minimizer(res1)))\n",
    "\n",
    "original_players = zeros(220)\n",
    "optimized_players = zeros(220)\n",
    "\n",
    "for i in 1:220\n",
    "    original_players[i] = players[i]\n",
    "    optimized_players[i] = max_lik_players[i]\n",
    "end\n",
    "\n",
    "original_players /= original_players[1]\n",
    "optimized_players /= optimized_players[1]\n",
    "grad = gradient(Optim.minimizer(res1), results, squads, zeros(length(players)))\n",
    "println(\"Correlação de Pearson: \", cor(original_players, optimized_players))\n",
    "println(\"Correlação de Spearman: \", corspearman(original_players, optimized_players))\n",
    "println(\"Correlação de Kendall: \", corkendall(original_players, optimized_players))\n",
    "println(\"||Gradiente||: \", norm(grad))"
   ]
  },
  {
   "cell_type": "code",
   "execution_count": 7,
   "id": "df4046b6",
   "metadata": {},
   "outputs": [
    {
     "data": {
      "text/plain": [
       "(true, [0.9228364351467517, 0.024655827036760947, 0.4073093411623929, 0.19800638547167937, 0.33810687578918497, 0.32851317929292567, 0.3022988256810326, 0.6661517492376108, 0.22016145224289896, 0.3572206232105273  …  0.18706936055570877, 0.11963943833656443, 0.5859548517486248, 0.24741976261254295, 0.6916316639711744, 0.7762796582546487, 0.4878498233613584, 0.7629648794759596, 0.2302181139397641, 0.7668839088447497], 10604.759765940285, 9867.14341883495)"
      ]
     },
     "execution_count": 7,
     "metadata": {},
     "output_type": "execute_result"
    }
   ],
   "source": [
    "Optim.converged(res2), Optim.minimizer(res2), Optim.minimum(res2), likelihood(players, results, squads)"
   ]
  },
  {
   "cell_type": "code",
   "execution_count": 8,
   "id": "0010452d",
   "metadata": {},
   "outputs": [
    {
     "name": "stdout",
     "output_type": "stream",
     "text": [
      "Correlação de Pearson: 0.03282224878142021\n",
      "Correlação de Spearman: 0.03144542806106061\n",
      "Correlação de Kendall: 0.02050643420506434\n",
      "||Gradiente||: 360.4287343613268\n"
     ]
    }
   ],
   "source": [
    "max_lik_players = Dict{Int64, Float64}(zip(1:length(Optim.minimizer(res2)), Optim.minimizer(res2)))\n",
    "\n",
    "original_players = zeros(220)\n",
    "optimized_players = zeros(220)\n",
    "\n",
    "for i in 1:220\n",
    "    original_players[i] = players[i]\n",
    "    optimized_players[i] = max_lik_players[i]\n",
    "end\n",
    "\n",
    "original_players /= original_players[1]\n",
    "optimized_players /= optimized_players[1]\n",
    "grad = gradient(Optim.minimizer(res2), results, squads, zeros(length(players)))\n",
    "println(\"Correlação de Pearson: \", cor(original_players, optimized_players))\n",
    "println(\"Correlação de Spearman: \", corspearman(original_players, optimized_players))\n",
    "println(\"Correlação de Kendall: \", corkendall(original_players, optimized_players))\n",
    "println(\"||Gradiente||: \", norm(grad))"
   ]
  },
  {
   "cell_type": "code",
   "execution_count": 9,
   "id": "9ae7599e",
   "metadata": {},
   "outputs": [
    {
     "data": {
      "text/plain": [
       "(true, [0.5837995817526539, 0.8396186565867251, 0.02351462085244894, 0.15402068438060315, 0.581483194568835, 1.088115826910971, 0.3013235722292648, 0.04292083931089695, 0.36685111241916524, 0.07619085824580343  …  1.8877360155311786, 0.48695819364269577, 0.09480834749069246, 0.2612906199547271, 0.29137662598194475, 0.4188285061822444, 0.3809249749730349, 0.26142581999849346, 0.9040687871089926, 0.32249017661667617], 9789.582572915311, 9867.14341883495)"
      ]
     },
     "execution_count": 9,
     "metadata": {},
     "output_type": "execute_result"
    }
   ],
   "source": [
    "Optim.converged(res3), Optim.minimizer(res3), Optim.minimum(res3), likelihood(players, results, squads)"
   ]
  },
  {
   "cell_type": "code",
   "execution_count": 10,
   "id": "19c82810",
   "metadata": {},
   "outputs": [
    {
     "name": "stdout",
     "output_type": "stream",
     "text": [
      "Correlação de Pearson: 0.7658380399762424\n",
      "Correlação de Spearman: 0.671018747569916\n",
      "Correlação de Kendall: 0.4839352428393524\n",
      "||Gradiente||: 5.25691156129967\n"
     ]
    }
   ],
   "source": [
    "max_lik_players = Dict{Int64, Float64}(zip(1:length(Optim.minimizer(res3)), Optim.minimizer(res3)))\n",
    "\n",
    "original_players = zeros(220)\n",
    "optimized_players = zeros(220)\n",
    "\n",
    "for i in 1:220\n",
    "    original_players[i] = players[i]\n",
    "    optimized_players[i] = max_lik_players[i]\n",
    "end\n",
    "\n",
    "original_players /= original_players[1]\n",
    "optimized_players /= optimized_players[1]\n",
    "grad = gradient(Optim.minimizer(res3), results, squads, zeros(length(players)))\n",
    "println(\"Correlação de Pearson: \", cor(original_players, optimized_players))\n",
    "println(\"Correlação de Spearman: \", corspearman(original_players, optimized_players))\n",
    "println(\"Correlação de Kendall: \", corkendall(original_players, optimized_players))\n",
    "println(\"||Gradiente||: \", norm(grad))"
   ]
  },
  {
   "cell_type": "code",
   "execution_count": 11,
   "id": "46082d8f",
   "metadata": {},
   "outputs": [
    {
     "name": "stdout",
     "output_type": "stream",
     "text": [
      "  2.519544 seconds (10.54 M allocations: 934.922 MiB, 1.93% gc time)\n"
     ]
    },
    {
     "data": {
      "text/plain": [
       " * Status: success\n",
       "\n",
       " * Candidate solution\n",
       "    Final objective value:     9.789583e+03\n",
       "\n",
       " * Found with\n",
       "    Algorithm:     Fminbox with Gradient Descent\n",
       "\n",
       " * Convergence measures\n",
       "    |x - x'|               = 0.00e+00 ≤ 0.0e+00\n",
       "    |x - x'|/|x'|          = 0.00e+00 ≤ 0.0e+00\n",
       "    |f(x) - f(x')|         = NaN ≰ 0.0e+00\n",
       "    |f(x) - f(x')|/|f(x')| = NaN ≰ 0.0e+00\n",
       "    |g(x)|                 = NaN ≰ 1.0e-08\n",
       "\n",
       " * Work counters\n",
       "    Seconds run:   3  (vs limit Inf)\n",
       "    Iterations:    1\n",
       "    f(x) calls:    2\n",
       "    ∇f(x) calls:   2\n"
      ]
     },
     "execution_count": 11,
     "metadata": {},
     "output_type": "execute_result"
    }
   ],
   "source": [
    "@time res4  = optimize(od,\n",
    "                       lower,\n",
    "                       upper,\n",
    "                       Optim.minimizer(res3),\n",
    "                       Fminbox(GradientDescent()),\n",
    "                       Optim.Options(iterations = 1000))\n",
    "\n",
    "res4"
   ]
  },
  {
   "cell_type": "code",
   "execution_count": 12,
   "id": "ea674c28",
   "metadata": {},
   "outputs": [
    {
     "data": {
      "text/plain": [
       "true"
      ]
     },
     "execution_count": 12,
     "metadata": {},
     "output_type": "execute_result"
    }
   ],
   "source": [
    "Optim.minimizer(res3) == Optim.minimizer(res4)"
   ]
  }
 ],
 "metadata": {
  "kernelspec": {
   "display_name": "Julia 1.6.0",
   "language": "julia",
   "name": "julia-1.6"
  },
  "language_info": {
   "file_extension": ".jl",
   "mimetype": "application/julia",
   "name": "julia",
   "version": "1.6.0"
  }
 },
 "nbformat": 4,
 "nbformat_minor": 5
}
