{
 "cells": [
  {
   "cell_type": "code",
   "execution_count": 1,
   "id": "russian-plasma",
   "metadata": {},
   "outputs": [],
   "source": [
    "%run Functions/analysis.py"
   ]
  },
  {
   "cell_type": "code",
   "execution_count": 2,
   "id": "failing-shape",
   "metadata": {},
   "outputs": [],
   "source": [
    "players = preprocessing()"
   ]
  },
  {
   "cell_type": "code",
   "execution_count": 3,
   "id": "acknowledged-identifier",
   "metadata": {
    "scrolled": false
   },
   "outputs": [
    {
     "data": {
      "application/vnd.jupyter.widget-view+json": {
       "model_id": "03bc31c8a31c41e2b631beba71d85051",
       "version_major": 2,
       "version_minor": 0
      },
      "text/plain": [
       "interactive(children=(SelectMultiple(description='Competitions:', index=(0,), options=('Serie A', 'Serie B', '…"
      ]
     },
     "metadata": {},
     "output_type": "display_data"
    }
   ],
   "source": [
    "@interact(competitions = SelectMultiple(options = ['Serie A', 'Serie B', 'Serie C', 'Serie D', 'Copa do Brasil'],\n",
    "                                        value = ['Serie A'],\n",
    "                                        description = 'Competitions:',\n",
    "                                        disabled = False),\n",
    "          years = IntRangeSlider(value = [2019, 2020],\n",
    "                                 min = 2013,\n",
    "                                 max = 2020,\n",
    "                                 step = 1,\n",
    "                                 description = 'Period:',\n",
    "                                 disabled = False,\n",
    "                                 continuous_update = False,\n",
    "                                 orientation = 'horizontal',\n",
    "                                 readout = True,\n",
    "                                 readout_format = 'd'))\n",
    "def visualization(competitions, years):\n",
    "    list_of_clubs = clubs(competitions, years)\n",
    "    relation = relations_list_of_clubs(list_of_clubs, players)\n",
    "    graph(relation)"
   ]
  }
 ],
 "metadata": {
  "kernelspec": {
   "display_name": "Python 3",
   "language": "python",
   "name": "python3"
  },
  "language_info": {
   "codemirror_mode": {
    "name": "ipython",
    "version": 3
   },
   "file_extension": ".py",
   "mimetype": "text/x-python",
   "name": "python",
   "nbconvert_exporter": "python",
   "pygments_lexer": "ipython3",
   "version": "3.8.5"
  }
 },
 "nbformat": 4,
 "nbformat_minor": 5
}
