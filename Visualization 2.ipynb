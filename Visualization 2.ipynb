{
 "cells": [
  {
   "cell_type": "markdown",
   "id": "dynamic-kruger",
   "metadata": {},
   "source": [
    "O runtime não é muito bom para gerar o primeiro grafo, fica acima de 1 minuto, mas depois os slider's nos geram parâmetros e fica relativamente rápido mudar a visualização. O alto tempo se dá em virtude da função ''preprocessing()'', a qual processa as relações entre jogadores e clubes, bem como entre os clubes."
   ]
  },
  {
   "cell_type": "code",
   "execution_count": 1,
   "id": "careful-vector",
   "metadata": {},
   "outputs": [],
   "source": [
    "import time"
   ]
  },
  {
   "cell_type": "code",
   "execution_count": 2,
   "id": "opening-theme",
   "metadata": {},
   "outputs": [],
   "source": [
    "t = time.time()"
   ]
  },
  {
   "cell_type": "code",
   "execution_count": 3,
   "id": "split-update",
   "metadata": {
    "scrolled": false
   },
   "outputs": [
    {
     "data": {
      "application/vnd.jupyter.widget-view+json": {
       "model_id": "5613eb3835c24f01ad6b34de4bfe6401",
       "version_major": 2,
       "version_minor": 0
      },
      "text/plain": [
       "HBox(children=(SelectMultiple(description='Competitions:', index=(0,), options=('Serie A', 'Serie B', 'Serie C…"
      ]
     },
     "metadata": {},
     "output_type": "display_data"
    },
    {
     "data": {
      "application/vnd.jupyter.widget-view+json": {
       "model_id": "f3fdd2f70cbe477eba1da94eef632823",
       "version_major": 2,
       "version_minor": 0
      },
      "text/plain": [
       "Output()"
      ]
     },
     "metadata": {},
     "output_type": "display_data"
    }
   ],
   "source": [
    "%run Functions/interact.py"
   ]
  },
  {
   "cell_type": "code",
   "execution_count": 4,
   "id": "musical-nerve",
   "metadata": {},
   "outputs": [],
   "source": [
    "tf = time.time()"
   ]
  },
  {
   "cell_type": "code",
   "execution_count": 5,
   "id": "premium-union",
   "metadata": {},
   "outputs": [
    {
     "name": "stdout",
     "output_type": "stream",
     "text": [
      "85.20689868927002\n"
     ]
    }
   ],
   "source": [
    "print(tf - t)"
   ]
  }
 ],
 "metadata": {
  "kernelspec": {
   "display_name": "Python 3",
   "language": "python",
   "name": "python3"
  },
  "language_info": {
   "codemirror_mode": {
    "name": "ipython",
    "version": 3
   },
   "file_extension": ".py",
   "mimetype": "text/x-python",
   "name": "python",
   "nbconvert_exporter": "python",
   "pygments_lexer": "ipython3",
   "version": "3.8.5"
  }
 },
 "nbformat": 4,
 "nbformat_minor": 5
}
