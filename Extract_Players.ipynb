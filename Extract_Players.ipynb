{
 "cells": [
  {
   "cell_type": "code",
   "execution_count": 1,
   "id": "f742a391",
   "metadata": {},
   "outputs": [],
   "source": [
    "import os\n",
    "import re\n",
    "from glob import glob\n",
    "from functions import *\n",
    "from Levenshtein import distance"
   ]
  },
  {
   "cell_type": "code",
   "execution_count": 2,
   "id": "7752c13a",
   "metadata": {
    "scrolled": true
   },
   "outputs": [
    {
     "data": {
      "text/plain": [
       "[['In', 'Out', 'ID', 'Club'],\n",
       " ['00:00 - 1T', '45:00 - 2T', '142720', 'Santos / SP'],\n",
       " ['00:00 - 1T', '45:00 - 2T', '303187', 'Criciúma / SC'],\n",
       " ['00:00 - 1T', '45:00 - 2T', '136752', 'Santos / SP'],\n",
       " ['00:00 - 1T', '45:00 - 2T', '295880', 'Criciúma / SC'],\n",
       " ['00:00 - 1T', '45:00 - INT', '445840', 'Santos / SP'],\n",
       " ['00:00 - 1T', '45:00 - 2T', '175475', 'Criciúma / SC'],\n",
       " ['00:00 - 1T', '45:00 - 2T', '185679', 'Santos / SP'],\n",
       " ['00:00 - 1T', '45:00 - 2T', '165264', 'Criciúma / SC'],\n",
       " ['00:00 - 1T', '45:00 - 2T', '161941', 'Santos / SP'],\n",
       " ['00:00 - 1T', '45:00 - 2T', '163885', 'Criciúma / SC'],\n",
       " ['00:00 - 1T', '45:00 - 2T', '186450', 'Santos / SP'],\n",
       " ['00:00 - 1T', '45:00 - 2T', '330478', 'Criciúma / SC'],\n",
       " ['00:00 - 1T', '45:00 - 2T', '185339', 'Santos / SP'],\n",
       " ['00:00 - 1T', '45:00 - 2T', '176375', 'Criciúma / SC'],\n",
       " ['00:00 - 1T', '29:00 - 2T', '322398', 'Santos / SP'],\n",
       " ['00:00 - 1T', '38:00 - 2T', '181803', 'Criciúma / SC'],\n",
       " ['00:00 - 1T', '45:00 - 2T', '164974', 'Santos / SP'],\n",
       " ['00:00 - 1T', '45:00 - 2T', '152788', 'Criciúma / SC'],\n",
       " ['00:00 - 1T', '37:00 - 2T', '360517', 'Santos / SP'],\n",
       " ['00:00 - 1T', '45:00 - 2T', '164019', 'Criciúma / SC'],\n",
       " ['00:00 - 1T', '37:00 - 2T', '305535', 'Santos / SP'],\n",
       " ['00:00 - 1T', '28:00 - 2T', '137972', 'Criciúma / SC'],\n",
       " ['45:00 - INT', '45:00 - 2T', '170061', 'Santos / SP'],\n",
       " ['28:00 - 2T', '45:00 - 2T', '161253', 'Criciúma / SC'],\n",
       " ['29:00 - 2T', '45:00 - 2T', '133769', 'Santos / SP'],\n",
       " ['37:00 - 2T', '45:00 - 2T', '297781', 'Santos / SP'],\n",
       " ['37:00 - 2T', '45:00 - 2T', '327945', 'Santos / SP'],\n",
       " ['38:00 - 2T', '45:00 - 2T', '316686', 'Criciúma / SC']]"
      ]
     },
     "execution_count": 2,
     "metadata": {},
     "output_type": "execute_result"
    }
   ],
   "source": [
    "doc = 'Scrape_and_some_views/raw_data_old/Serie A/2013/Game 230.csv'\n",
    "extract_participations_1(doc)"
   ]
  },
  {
   "cell_type": "code",
   "execution_count": 3,
   "id": "083a958a",
   "metadata": {},
   "outputs": [],
   "source": [
    "games1 = sorted(glob('Scrape_and_some_views/raw_data_old/*/*/Game *'))\n",
    "games2 = sorted(glob('Scrape_and_some_views/raw_data/*/*/Game *'))\n",
    "\n",
    "games = []\n",
    "for game in games1:\n",
    "    aux = game.replace('raw_data_old', 'raw_data')\n",
    "    if aux in games2:\n",
    "        games.append([game, aux])\n",
    "    else:\n",
    "        games.append([game])\n",
    "        \n",
    "for game in games2:\n",
    "    aux = game.replace('raw_data', 'raw_data_old')\n",
    "    if aux not in games1:\n",
    "        games.append([game])"
   ]
  },
  {
   "cell_type": "code",
   "execution_count": 4,
   "id": "eb0db62a",
   "metadata": {},
   "outputs": [
    {
     "data": {
      "text/plain": [
       "(13133, 13139)"
      ]
     },
     "execution_count": 4,
     "metadata": {},
     "output_type": "execute_result"
    }
   ],
   "source": [
    "players = []\n",
    "c1 = []\n",
    "c2 = []\n",
    "for game in games:\n",
    "    for doc in game:\n",
    "        game_players = extract_players(doc)\n",
    "        if len(game_players) == 0:\n",
    "            c1.append(doc)\n",
    "            \n",
    "        if len(game_players) < 22:\n",
    "            c2.append(doc)\n",
    "\n",
    "        players += game_players\n",
    "            \n",
    "len(c1), len(c2)"
   ]
  },
  {
   "cell_type": "code",
   "execution_count": 5,
   "id": "d0edee86",
   "metadata": {},
   "outputs": [],
   "source": [
    "all_players = {}\n",
    "for player in players:\n",
    "    if player[0] in all_players:\n",
    "        if player[-1] not in all_players[player[0]]['Clubs']:\n",
    "            all_players[player[0]]['Clubs'].append(player[-1])\n",
    "    else:\n",
    "        all_players[player[0]] = {'Name' : player[2], 'Type' : player[3], 'Clubs' : [player[-1]]}"
   ]
  },
  {
   "cell_type": "code",
   "execution_count": 6,
   "id": "1efb6dd2",
   "metadata": {},
   "outputs": [
    {
     "data": {
      "text/plain": [
       "(23449, 21, 97)"
      ]
     },
     "execution_count": 6,
     "metadata": {},
     "output_type": "execute_result"
    }
   ],
   "source": [
    "c0 = 0\n",
    "c1 = []\n",
    "c2 = []\n",
    "for game in games:\n",
    "    for doc in game:\n",
    "        c0 += 1\n",
    "        try:\n",
    "            extract_participations_1(doc)\n",
    "        except ValueError:\n",
    "            try:\n",
    "                extract_participations_2(doc)\n",
    "            except ValueError:    \n",
    "                c1 += [doc]\n",
    "                \n",
    "        except IndexError:\n",
    "            c2 += [doc]\n",
    "\n",
    "c0, len(c1), len(c2)"
   ]
  },
  {
   "cell_type": "code",
   "execution_count": 7,
   "id": "cbe8d2e2",
   "metadata": {},
   "outputs": [
    {
     "name": "stdout",
     "output_type": "stream",
     "text": [
      "Scrape_and_some_views/raw_data_old/Serie B/2013/Game 037.csv\n"
     ]
    }
   ],
   "source": [
    "for game in c2:\n",
    "    if 'Serie D' not in game:\n",
    "        print(game)"
   ]
  },
  {
   "cell_type": "code",
   "execution_count": 8,
   "id": "c61545a4",
   "metadata": {},
   "outputs": [],
   "source": [
    "# buscar gols e placares"
   ]
  },
  {
   "cell_type": "code",
   "execution_count": 9,
   "id": "5d13375f",
   "metadata": {},
   "outputs": [],
   "source": [
    "def extract_goal_info(line):\n",
    "    print(line)\n",
    "    if ',' not in line:\n",
    "        time = re.findall('\\dT', line)\n",
    "        sep = line.find(time[0]) + 2\n",
    "        time = line[:sep]\n",
    "        line = line[sep:]\n",
    "        k = 1\n",
    "        while line[:k].isdigit():\n",
    "            number = line[:k]\n",
    "            k += 1\n",
    "\n",
    "        line = line[k - 1:]\n",
    "        tp = line[:2]\n",
    "        line = re.sub(' ', '', line[2:])\n",
    "\n",
    "        return time, number, tp, line\n",
    "    \n",
    "    time = re.findall('\\dT', line)\n",
    "    sep = line.find(time[0]) + 2\n",
    "    time = re.sub(',', '', line[:sep])\n",
    "    line = line[sep:]\n",
    "    line = line[1:].split(',')\n",
    "    number = line[0]\n",
    "    tp = line[1]\n",
    "    club = line[-1]\n",
    "    \n",
    "    return time, number, tp, club"
   ]
  },
  {
   "cell_type": "code",
   "execution_count": 10,
   "id": "c2b52a5c",
   "metadata": {},
   "outputs": [],
   "source": [
    "def find_player(players, number, club):\n",
    "    for player in players:\n",
    "        if player[1] == number and club == re.sub(' / ', '/', player[-1]):\n",
    "            return player[0]"
   ]
  },
  {
   "cell_type": "code",
   "execution_count": 11,
   "id": "d13a153c",
   "metadata": {
    "scrolled": true
   },
   "outputs": [
    {
     "data": {
      "text/plain": [
       "'0 x 2'"
      ]
     },
     "execution_count": 11,
     "metadata": {},
     "output_type": "execute_result"
    }
   ],
   "source": [
    "def extract_score(game):\n",
    "    file = open(game, encoding = 'ISO-8859-1')\n",
    "    data = file.readlines()\n",
    "    file.close()\n",
    "    if data == []:\n",
    "        return ''\n",
    "    \n",
    "    goals = []\n",
    "    for line in data:\n",
    "        score = re.findall('\\dx\\d', re.sub(' ', '', line.lower()))\n",
    "        if score != []:\n",
    "            for i in range(len(score)):\n",
    "                score[i] = re.sub('x', ' x ', score[i])\n",
    "\n",
    "            score = score[-1]\n",
    "            break\n",
    "            \n",
    "    return score\n",
    "\n",
    "    '''\n",
    "    players = extract_players(game)\n",
    "    club1, club2 = '', ''\n",
    "    for player in players:\n",
    "        if club1 == '':\n",
    "            club1 = re.sub(' / ', '/', player[-1])\n",
    "        elif club2 == '' and player[-1] != club1:\n",
    "            club2 = re.sub(' / ', '/', player[-1])\n",
    "            break\n",
    "\n",
    "    flag1 = False\n",
    "    flag2 = False\n",
    "    for line in data:\n",
    "        if flag2 and not line[0].isdigit():\n",
    "            break\n",
    "        if flag2:\n",
    "            time, number, tp, club = extract_goal_info(line.strip())\n",
    "            print(club)\n",
    "            if re.sub(' ', '', club1) in club:\n",
    "                club = club1\n",
    "            else:\n",
    "                club = club2\n",
    "            \n",
    "            print(club)\n",
    "            print()\n",
    "            player = find_player(players, number, club)\n",
    "            goals.append([time, player, tp, club])\n",
    "        elif flag1:\n",
    "            flag2 = True\n",
    "        elif 'Gols' in line:\n",
    "            flag1 = True\n",
    "\n",
    "    return score, goals\n",
    "    '''\n",
    "\n",
    "game = 'Scrape_and_some_views/raw_data/Copa do Brasil/2017/Game 019.csv'\n",
    "extract_score(game)"
   ]
  },
  {
   "cell_type": "code",
   "execution_count": 12,
   "id": "d1d4ae37",
   "metadata": {},
   "outputs": [],
   "source": [
    "# ao extrair os gols de cada partida será preciso ver\n",
    "# o problema do guarani de juazeiro/ce -> guarani/ce\n",
    "# entre outros"
   ]
  },
  {
   "cell_type": "code",
   "execution_count": null,
   "id": "d8ebf40a",
   "metadata": {},
   "outputs": [],
   "source": []
  },
  {
   "cell_type": "code",
   "execution_count": 13,
   "id": "0d4cf828",
   "metadata": {},
   "outputs": [
    {
     "data": {
      "text/plain": [
       "(12639, 10810)"
      ]
     },
     "execution_count": 13,
     "metadata": {},
     "output_type": "execute_result"
    }
   ],
   "source": [
    "def extract_info(game):\n",
    "    try:\n",
    "        players = extract_participations_1(game)\n",
    "    except:\n",
    "        try:\n",
    "            players = extract_participations_2(game)\n",
    "        except:\n",
    "            return None\n",
    "        \n",
    "    if players == [['In', 'Out', 'ID', 'Club']]:\n",
    "        return None\n",
    "    else:\n",
    "        score = extract_score(game)\n",
    "        \n",
    "    return players, score\n",
    "\n",
    "c1, c2 = 0, 0\n",
    "for game in games:\n",
    "    for doc in game:\n",
    "        info = extract_info(doc)\n",
    "        if info == None:\n",
    "            c1 += 1\n",
    "        else:\n",
    "            c2 += 1\n",
    "            \n",
    "c1, c2"
   ]
  },
  {
   "cell_type": "code",
   "execution_count": 14,
   "id": "5a5c2df8",
   "metadata": {},
   "outputs": [
    {
     "data": {
      "text/plain": [
       "([['In', 'Out', 'ID', 'Club'],\n",
       "  ['00:00 - 1T', '45:00 - 2T', '177953', 'Floresta / CE'],\n",
       "  ['00:00 - 1T', '45:00 - 2T', '352377', 'Mirassol / SP'],\n",
       "  ['00:00 - 1T', '36:00 - 2T', '298633', 'Floresta / CE'],\n",
       "  ['00:00 - 1T', '45:00 - 2T', '440110', 'Mirassol / SP'],\n",
       "  ['00:00 - 1T', '45:00 - 2T', '298916', 'Floresta / CE'],\n",
       "  ['00:00 - 1T', '45:00 - 2T', '456006', 'Mirassol / SP'],\n",
       "  ['00:00 - 1T', '45:00 - 2T', '385488', 'Floresta / CE'],\n",
       "  ['00:00 - 1T', '45:00 - 2T', '184109', 'Mirassol / SP'],\n",
       "  ['00:00 - 1T', '45:00 - 2T', '177085', 'Floresta / CE'],\n",
       "  ['00:00 - 1T', '45:00 - 2T', '338246', 'Mirassol / SP'],\n",
       "  ['00:00 - 1T', '45:00 - 2T', '187325', 'Floresta / CE'],\n",
       "  ['00:00 - 1T', '29:00 - 2T', '313582', 'Mirassol / SP'],\n",
       "  ['00:00 - 1T', '22:00 - 2T', '532888', 'Floresta / CE'],\n",
       "  ['00:00 - 1T', '45:00 - 2T', '403332', 'Mirassol / SP'],\n",
       "  ['00:00 - 1T', '45:00 - 2T', '172261', 'Floresta / CE'],\n",
       "  ['00:00 - 1T', '29:00 - 2T', '177093', 'Mirassol / SP'],\n",
       "  ['00:00 - 1T', '45:00 - 2T', '304373', 'Floresta / CE'],\n",
       "  ['00:00 - 1T', '+1:00 - 2T', '187979', 'Mirassol / SP'],\n",
       "  ['00:00 - 1T', '22:00 - 2T', '328098', 'Floresta / CE'],\n",
       "  ['00:00 - 1T', '+1:00 - 2T', '320834', 'Mirassol / SP'],\n",
       "  ['00:00 - 1T', '28:00 - 2T', '341396', 'Floresta / CE'],\n",
       "  ['00:00 - 1T', '22:00 - 2T', '337894', 'Mirassol / SP'],\n",
       "  ['+1:00 - 2T', '45:00 - 2T', '565197', 'Mirassol / SP'],\n",
       "  ['+1:00 - 2T', '45:00 - 2T', '515816', 'Mirassol / SP'],\n",
       "  ['22:00 - 2T', '45:00 - 2T', '371590', 'Floresta / CE'],\n",
       "  ['22:00 - 2T', '45:00 - 2T', '367363', 'Mirassol / SP'],\n",
       "  ['22:00 - 2T', '45:00 - 2T', '607258', 'Floresta / CE'],\n",
       "  ['28:00 - 2T', '45:00 - 2T', '359026', 'Floresta / CE'],\n",
       "  ['29:00 - 2T', '45:00 - 2T', '466231', 'Mirassol / SP'],\n",
       "  ['29:00 - 2T', '45:00 - 2T', '306314', 'Mirassol / SP'],\n",
       "  ['36:00 - 2T', '45:00 - 2T', '292997', 'Floresta / CE']],\n",
       " '0 x 1')"
      ]
     },
     "execution_count": 14,
     "metadata": {},
     "output_type": "execute_result"
    }
   ],
   "source": [
    "extract_info('Scrape_and_some_views/raw_data_old/Serie D/2020/Game 517.csv')"
   ]
  }
 ],
 "metadata": {
  "kernelspec": {
   "display_name": "Python 3 (ipykernel)",
   "language": "python",
   "name": "python3"
  },
  "language_info": {
   "codemirror_mode": {
    "name": "ipython",
    "version": 3
   },
   "file_extension": ".py",
   "mimetype": "text/x-python",
   "name": "python",
   "nbconvert_exporter": "python",
   "pygments_lexer": "ipython3",
   "version": "3.8.10"
  }
 },
 "nbformat": 4,
 "nbformat_minor": 5
}
